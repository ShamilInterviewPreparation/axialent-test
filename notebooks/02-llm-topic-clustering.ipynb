{
 "cells": [
  {
   "cell_type": "code",
   "execution_count": 32,
   "metadata": {},
   "outputs": [
    {
     "name": "stdout",
     "output_type": "stream",
     "text": [
      "The autoreload extension is already loaded. To reload it, use:\n",
      "  %reload_ext autoreload\n"
     ]
    }
   ],
   "source": [
    "%load_ext autoreload\n",
    "%autoreload 2"
   ]
  },
  {
   "cell_type": "code",
   "execution_count": 33,
   "metadata": {},
   "outputs": [
    {
     "data": {
      "text/html": [
       "<div>\n",
       "<style scoped>\n",
       "    .dataframe tbody tr th:only-of-type {\n",
       "        vertical-align: middle;\n",
       "    }\n",
       "\n",
       "    .dataframe tbody tr th {\n",
       "        vertical-align: top;\n",
       "    }\n",
       "\n",
       "    .dataframe thead th {\n",
       "        text-align: right;\n",
       "    }\n",
       "</style>\n",
       "<table border=\"1\" class=\"dataframe\">\n",
       "  <thead>\n",
       "    <tr style=\"text-align: right;\">\n",
       "      <th></th>\n",
       "      <th>metadata</th>\n",
       "      <th>inputs</th>\n",
       "      <th>outputs</th>\n",
       "      <th>api_errors</th>\n",
       "      <th>conversation_id</th>\n",
       "    </tr>\n",
       "  </thead>\n",
       "  <tbody>\n",
       "    <tr>\n",
       "      <th>1</th>\n",
       "      <td>{'dataset_split': ['base'], 'ls_model_type': '...</td>\n",
       "      <td>{'messages': [{'role': 'system', 'content': 'Y...</td>\n",
       "      <td>{'message': {'role': 'assistant', 'content': '...</td>\n",
       "      <td>3</td>\n",
       "      <td>1</td>\n",
       "    </tr>\n",
       "    <tr>\n",
       "      <th>2</th>\n",
       "      <td>{'dataset_split': ['base'], 'ls_model_type': '...</td>\n",
       "      <td>{'messages': [{'role': 'system', 'content': 'Y...</td>\n",
       "      <td>{'message': {'role': 'assistant', 'content': '...</td>\n",
       "      <td>0</td>\n",
       "      <td>2</td>\n",
       "    </tr>\n",
       "    <tr>\n",
       "      <th>3</th>\n",
       "      <td>{'dataset_split': ['base'], 'ls_model_type': '...</td>\n",
       "      <td>{'messages': [{'role': 'system', 'content': 'Y...</td>\n",
       "      <td>{'message': {'role': 'assistant', 'content': '...</td>\n",
       "      <td>0</td>\n",
       "      <td>3</td>\n",
       "    </tr>\n",
       "    <tr>\n",
       "      <th>4</th>\n",
       "      <td>{'dataset_split': ['base'], 'ls_model_type': '...</td>\n",
       "      <td>{'messages': [{'role': 'system', 'content': 'Y...</td>\n",
       "      <td>{'message': {'role': 'assistant', 'content': '...</td>\n",
       "      <td>0</td>\n",
       "      <td>4</td>\n",
       "    </tr>\n",
       "    <tr>\n",
       "      <th>5</th>\n",
       "      <td>{'dataset_split': ['base'], 'ls_model_type': '...</td>\n",
       "      <td>{'messages': [{'role': 'system', 'content': 'Y...</td>\n",
       "      <td>{'message': {'role': 'assistant', 'content': '...</td>\n",
       "      <td>0</td>\n",
       "      <td>5</td>\n",
       "    </tr>\n",
       "  </tbody>\n",
       "</table>\n",
       "</div>"
      ],
      "text/plain": [
       "                                            metadata  \\\n",
       "1  {'dataset_split': ['base'], 'ls_model_type': '...   \n",
       "2  {'dataset_split': ['base'], 'ls_model_type': '...   \n",
       "3  {'dataset_split': ['base'], 'ls_model_type': '...   \n",
       "4  {'dataset_split': ['base'], 'ls_model_type': '...   \n",
       "5  {'dataset_split': ['base'], 'ls_model_type': '...   \n",
       "\n",
       "                                              inputs  \\\n",
       "1  {'messages': [{'role': 'system', 'content': 'Y...   \n",
       "2  {'messages': [{'role': 'system', 'content': 'Y...   \n",
       "3  {'messages': [{'role': 'system', 'content': 'Y...   \n",
       "4  {'messages': [{'role': 'system', 'content': 'Y...   \n",
       "5  {'messages': [{'role': 'system', 'content': 'Y...   \n",
       "\n",
       "                                             outputs  api_errors  \\\n",
       "1  {'message': {'role': 'assistant', 'content': '...           3   \n",
       "2  {'message': {'role': 'assistant', 'content': '...           0   \n",
       "3  {'message': {'role': 'assistant', 'content': '...           0   \n",
       "4  {'message': {'role': 'assistant', 'content': '...           0   \n",
       "5  {'message': {'role': 'assistant', 'content': '...           0   \n",
       "\n",
       "   conversation_id  \n",
       "1                1  \n",
       "2                2  \n",
       "3                3  \n",
       "4                4  \n",
       "5                5  "
      ]
     },
     "execution_count": 33,
     "metadata": {},
     "output_type": "execute_result"
    }
   ],
   "source": [
    "from src.data_preparation import load_dataset\n",
    "import plotly.express as px\n",
    "import plotly.graph_objects as go\n",
    "from plotly.subplots import make_subplots\n",
    "\n",
    "dataset_path = \"../data/dataset.jsonl\"\n",
    "dataset = load_dataset(dataset_path)\n",
    "dataset = dataset[dataset.api_errors < 10]\n",
    "dataset.head()"
   ]
  },
  {
   "cell_type": "code",
   "execution_count": 34,
   "metadata": {},
   "outputs": [
    {
     "data": {
      "text/html": [
       "<div>\n",
       "<style scoped>\n",
       "    .dataframe tbody tr th:only-of-type {\n",
       "        vertical-align: middle;\n",
       "    }\n",
       "\n",
       "    .dataframe tbody tr th {\n",
       "        vertical-align: top;\n",
       "    }\n",
       "\n",
       "    .dataframe thead th {\n",
       "        text-align: right;\n",
       "    }\n",
       "</style>\n",
       "<table border=\"1\" class=\"dataframe\">\n",
       "  <thead>\n",
       "    <tr style=\"text-align: right;\">\n",
       "      <th></th>\n",
       "      <th>conversation_id</th>\n",
       "      <th>main_topic</th>\n",
       "      <th>situation</th>\n",
       "      <th>confidence</th>\n",
       "      <th>reasoning</th>\n",
       "    </tr>\n",
       "  </thead>\n",
       "  <tbody>\n",
       "    <tr>\n",
       "      <th>0</th>\n",
       "      <td>1</td>\n",
       "      <td>Team Dynamics</td>\n",
       "      <td>Collaboration issues</td>\n",
       "      <td>0.90</td>\n",
       "      <td>The conversation primarily revolves around the...</td>\n",
       "    </tr>\n",
       "    <tr>\n",
       "      <th>1</th>\n",
       "      <td>2</td>\n",
       "      <td>Performance Related</td>\n",
       "      <td>Poor quality work</td>\n",
       "      <td>0.90</td>\n",
       "      <td>The conversation primarily focused on the low ...</td>\n",
       "    </tr>\n",
       "    <tr>\n",
       "      <th>2</th>\n",
       "      <td>3</td>\n",
       "      <td>Project Management</td>\n",
       "      <td>Resource allocation conflicts</td>\n",
       "      <td>0.90</td>\n",
       "      <td>The conversation primarily revolves around the...</td>\n",
       "    </tr>\n",
       "    <tr>\n",
       "      <th>3</th>\n",
       "      <td>4</td>\n",
       "      <td>Performance Related</td>\n",
       "      <td>Poor quality work</td>\n",
       "      <td>0.90</td>\n",
       "      <td>The conversation primarily focused on the seni...</td>\n",
       "    </tr>\n",
       "    <tr>\n",
       "      <th>4</th>\n",
       "      <td>5</td>\n",
       "      <td>Team Dynamics</td>\n",
       "      <td>Collaboration issues</td>\n",
       "      <td>0.90</td>\n",
       "      <td>The conversation primarily revolves around a t...</td>\n",
       "    </tr>\n",
       "    <tr>\n",
       "      <th>5</th>\n",
       "      <td>6</td>\n",
       "      <td>Career Development</td>\n",
       "      <td>Unmet salary expectations</td>\n",
       "      <td>0.90</td>\n",
       "      <td>The conversation primarily revolves around a t...</td>\n",
       "    </tr>\n",
       "    <tr>\n",
       "      <th>6</th>\n",
       "      <td>7</td>\n",
       "      <td>Work Life Balance</td>\n",
       "      <td>Flexible work arrangements</td>\n",
       "      <td>0.85</td>\n",
       "      <td>The conversation revolves around a team member...</td>\n",
       "    </tr>\n",
       "    <tr>\n",
       "      <th>7</th>\n",
       "      <td>8</td>\n",
       "      <td>Interpersonal Conflicts</td>\n",
       "      <td>Personality clashes</td>\n",
       "      <td>0.90</td>\n",
       "      <td>The conversation revolves around a difficult d...</td>\n",
       "    </tr>\n",
       "    <tr>\n",
       "      <th>8</th>\n",
       "      <td>9</td>\n",
       "      <td>Career Development</td>\n",
       "      <td>Unmet salary expectations</td>\n",
       "      <td>0.80</td>\n",
       "      <td>The conversation revolves around an employee's...</td>\n",
       "    </tr>\n",
       "    <tr>\n",
       "      <th>9</th>\n",
       "      <td>10</td>\n",
       "      <td>Project Management</td>\n",
       "      <td>Project approach disagreements</td>\n",
       "      <td>0.90</td>\n",
       "      <td>The conversation primarily revolves around fru...</td>\n",
       "    </tr>\n",
       "    <tr>\n",
       "      <th>10</th>\n",
       "      <td>11</td>\n",
       "      <td>Performance Related</td>\n",
       "      <td>Poor quality work</td>\n",
       "      <td>0.90</td>\n",
       "      <td>The conversation centers around Andrea's failu...</td>\n",
       "    </tr>\n",
       "    <tr>\n",
       "      <th>11</th>\n",
       "      <td>12</td>\n",
       "      <td>Performance Related</td>\n",
       "      <td>Productivity concerns</td>\n",
       "      <td>0.90</td>\n",
       "      <td>The conversation revolves around the performan...</td>\n",
       "    </tr>\n",
       "    <tr>\n",
       "      <th>12</th>\n",
       "      <td>13</td>\n",
       "      <td>Career Development</td>\n",
       "      <td>Unmet salary expectations</td>\n",
       "      <td>0.90</td>\n",
       "      <td>The conversation revolves around the user's co...</td>\n",
       "    </tr>\n",
       "    <tr>\n",
       "      <th>13</th>\n",
       "      <td>14</td>\n",
       "      <td>Career Development</td>\n",
       "      <td>Declining promotions</td>\n",
       "      <td>0.95</td>\n",
       "      <td>The conversation primarily revolves around the...</td>\n",
       "    </tr>\n",
       "    <tr>\n",
       "      <th>14</th>\n",
       "      <td>15</td>\n",
       "      <td>Project Management</td>\n",
       "      <td>Project approach disagreements</td>\n",
       "      <td>0.85</td>\n",
       "      <td>The conversation revolves around concerns abou...</td>\n",
       "    </tr>\n",
       "    <tr>\n",
       "      <th>15</th>\n",
       "      <td>16</td>\n",
       "      <td>Organizational Changes</td>\n",
       "      <td>Severance payment discussions due to site closure</td>\n",
       "      <td>0.90</td>\n",
       "      <td>The conversation primarily revolves around neg...</td>\n",
       "    </tr>\n",
       "    <tr>\n",
       "      <th>16</th>\n",
       "      <td>17</td>\n",
       "      <td>Performance Related</td>\n",
       "      <td>Attendance/punctuality issues</td>\n",
       "      <td>0.95</td>\n",
       "      <td>The conversation primarily revolves around add...</td>\n",
       "    </tr>\n",
       "    <tr>\n",
       "      <th>17</th>\n",
       "      <td>18</td>\n",
       "      <td>Work Life Balance</td>\n",
       "      <td>Personal issues affecting work</td>\n",
       "      <td>0.85</td>\n",
       "      <td>The conversation primarily revolves around a t...</td>\n",
       "    </tr>\n",
       "  </tbody>\n",
       "</table>\n",
       "</div>"
      ],
      "text/plain": [
       "    conversation_id               main_topic  \\\n",
       "0                 1            Team Dynamics   \n",
       "1                 2      Performance Related   \n",
       "2                 3       Project Management   \n",
       "3                 4      Performance Related   \n",
       "4                 5            Team Dynamics   \n",
       "5                 6       Career Development   \n",
       "6                 7        Work Life Balance   \n",
       "7                 8  Interpersonal Conflicts   \n",
       "8                 9       Career Development   \n",
       "9                10       Project Management   \n",
       "10               11      Performance Related   \n",
       "11               12      Performance Related   \n",
       "12               13       Career Development   \n",
       "13               14       Career Development   \n",
       "14               15       Project Management   \n",
       "15               16   Organizational Changes   \n",
       "16               17      Performance Related   \n",
       "17               18        Work Life Balance   \n",
       "\n",
       "                                            situation  confidence  \\\n",
       "0                                Collaboration issues        0.90   \n",
       "1                                   Poor quality work        0.90   \n",
       "2                       Resource allocation conflicts        0.90   \n",
       "3                                   Poor quality work        0.90   \n",
       "4                                Collaboration issues        0.90   \n",
       "5                           Unmet salary expectations        0.90   \n",
       "6                          Flexible work arrangements        0.85   \n",
       "7                                 Personality clashes        0.90   \n",
       "8                           Unmet salary expectations        0.80   \n",
       "9                      Project approach disagreements        0.90   \n",
       "10                                  Poor quality work        0.90   \n",
       "11                              Productivity concerns        0.90   \n",
       "12                          Unmet salary expectations        0.90   \n",
       "13                               Declining promotions        0.95   \n",
       "14                     Project approach disagreements        0.85   \n",
       "15  Severance payment discussions due to site closure        0.90   \n",
       "16                      Attendance/punctuality issues        0.95   \n",
       "17                     Personal issues affecting work        0.85   \n",
       "\n",
       "                                            reasoning  \n",
       "0   The conversation primarily revolves around the...  \n",
       "1   The conversation primarily focused on the low ...  \n",
       "2   The conversation primarily revolves around the...  \n",
       "3   The conversation primarily focused on the seni...  \n",
       "4   The conversation primarily revolves around a t...  \n",
       "5   The conversation primarily revolves around a t...  \n",
       "6   The conversation revolves around a team member...  \n",
       "7   The conversation revolves around a difficult d...  \n",
       "8   The conversation revolves around an employee's...  \n",
       "9   The conversation primarily revolves around fru...  \n",
       "10  The conversation centers around Andrea's failu...  \n",
       "11  The conversation revolves around the performan...  \n",
       "12  The conversation revolves around the user's co...  \n",
       "13  The conversation primarily revolves around the...  \n",
       "14  The conversation revolves around concerns abou...  \n",
       "15  The conversation primarily revolves around neg...  \n",
       "16  The conversation primarily revolves around add...  \n",
       "17  The conversation primarily revolves around a t...  "
      ]
     },
     "execution_count": 34,
     "metadata": {},
     "output_type": "execute_result"
    }
   ],
   "source": [
    "from langchain_openai import ChatOpenAI\n",
    "from src.analysis.topic_clustering import process_conversations\n",
    "from pathlib import Path\n",
    "import pandas as pd\n",
    "\n",
    "output_topics_df = Path(\"../data/topics_df.csv\")\n",
    "\n",
    "if output_topics_df.exists():\n",
    "    print(\"Loading topics from file\")\n",
    "    topics_df = pd.read_csv(output_topics_df)\n",
    "else:\n",
    "    model = ChatOpenAI(model=\"gpt-4o-mini\", temperature=0)\n",
    "\n",
    "    small_df = dataset.to_dict(orient=\"records\")\n",
    "\n",
    "    output_dict = process_conversations(small_df, model)\n",
    "\n",
    "    topics_df = pd.DataFrame(\n",
    "        [\n",
    "            {\n",
    "                \"conversation_id\": conv[\"conversation_id\"],\n",
    "                \"main_topic\": conv[\"category\"][\"main_topic\"],\n",
    "                \"situation\": conv[\"category\"][\"situation\"],\n",
    "                \"confidence\": conv[\"category\"][\"confidence\"],\n",
    "                \"reasoning\": conv[\"category\"][\"reasoning\"],\n",
    "            }\n",
    "            for conv in output_dict\n",
    "        ]\n",
    "    )\n",
    "    topics_df.to_csv(\"../data/topics_df.csv\", index=False)\n",
    "\n",
    "\n",
    "topics_df"
   ]
  },
  {
   "cell_type": "code",
   "execution_count": 35,
   "metadata": {},
   "outputs": [
    {
     "data": {
      "text/html": [
       "<div>\n",
       "<style scoped>\n",
       "    .dataframe tbody tr th:only-of-type {\n",
       "        vertical-align: middle;\n",
       "    }\n",
       "\n",
       "    .dataframe tbody tr th {\n",
       "        vertical-align: top;\n",
       "    }\n",
       "\n",
       "    .dataframe thead th {\n",
       "        text-align: right;\n",
       "    }\n",
       "</style>\n",
       "<table border=\"1\" class=\"dataframe\">\n",
       "  <thead>\n",
       "    <tr style=\"text-align: right;\">\n",
       "      <th></th>\n",
       "      <th>conversation_id</th>\n",
       "      <th>conversation_length</th>\n",
       "      <th>user_words</th>\n",
       "      <th>api_errors</th>\n",
       "      <th>feedback_Q1</th>\n",
       "      <th>feedback_Q2</th>\n",
       "      <th>feedback_Q3</th>\n",
       "      <th>overall_feedback</th>\n",
       "    </tr>\n",
       "  </thead>\n",
       "  <tbody>\n",
       "    <tr>\n",
       "      <th>1</th>\n",
       "      <td>1</td>\n",
       "      <td>18</td>\n",
       "      <td>364</td>\n",
       "      <td>3</td>\n",
       "      <td>very satisfactory</td>\n",
       "      <td>extremely helpful</td>\n",
       "      <td>I like its objective approach clarifying the p...</td>\n",
       "      <td>5.0</td>\n",
       "    </tr>\n",
       "    <tr>\n",
       "      <th>2</th>\n",
       "      <td>2</td>\n",
       "      <td>18</td>\n",
       "      <td>138</td>\n",
       "      <td>0</td>\n",
       "      <td>very satisfactory</td>\n",
       "      <td>it helped!</td>\n",
       "      <td>I dont know what else to ask :) it was fine</td>\n",
       "      <td>5.0</td>\n",
       "    </tr>\n",
       "    <tr>\n",
       "      <th>3</th>\n",
       "      <td>3</td>\n",
       "      <td>28</td>\n",
       "      <td>492</td>\n",
       "      <td>0</td>\n",
       "      <td>very satisfactory</td>\n",
       "      <td>extremely helpful</td>\n",
       "      <td>I really liked the structure and how the conte...</td>\n",
       "      <td>5.0</td>\n",
       "    </tr>\n",
       "    <tr>\n",
       "      <th>4</th>\n",
       "      <td>4</td>\n",
       "      <td>18</td>\n",
       "      <td>138</td>\n",
       "      <td>0</td>\n",
       "      <td>very satisfactory</td>\n",
       "      <td>it helped!</td>\n",
       "      <td>I dont know what else to ask :) it was fine</td>\n",
       "      <td>5.0</td>\n",
       "    </tr>\n",
       "    <tr>\n",
       "      <th>5</th>\n",
       "      <td>5</td>\n",
       "      <td>40</td>\n",
       "      <td>330</td>\n",
       "      <td>0</td>\n",
       "      <td>NaN</td>\n",
       "      <td>NaN</td>\n",
       "      <td>NaN</td>\n",
       "      <td>NaN</td>\n",
       "    </tr>\n",
       "  </tbody>\n",
       "</table>\n",
       "</div>"
      ],
      "text/plain": [
       "   conversation_id  conversation_length  user_words  api_errors  \\\n",
       "1                1                   18         364           3   \n",
       "2                2                   18         138           0   \n",
       "3                3                   28         492           0   \n",
       "4                4                   18         138           0   \n",
       "5                5                   40         330           0   \n",
       "\n",
       "         feedback_Q1        feedback_Q2  \\\n",
       "1  very satisfactory  extremely helpful   \n",
       "2  very satisfactory         it helped!   \n",
       "3  very satisfactory  extremely helpful   \n",
       "4  very satisfactory         it helped!   \n",
       "5                NaN                NaN   \n",
       "\n",
       "                                         feedback_Q3  overall_feedback  \n",
       "1  I like its objective approach clarifying the p...               5.0  \n",
       "2        I dont know what else to ask :) it was fine               5.0  \n",
       "3  I really liked the structure and how the conte...               5.0  \n",
       "4        I dont know what else to ask :) it was fine               5.0  \n",
       "5                                                NaN               NaN  "
      ]
     },
     "execution_count": 35,
     "metadata": {},
     "output_type": "execute_result"
    }
   ],
   "source": [
    "feedback_df = pd.read_csv(\"../data/quantative_df.csv\")\n",
    "feedback_df = feedback_df[feedback_df.api_errors < 10]\n",
    "feedback_df.head()"
   ]
  },
  {
   "cell_type": "code",
   "execution_count": 36,
   "metadata": {},
   "outputs": [
    {
     "data": {
      "text/html": [
       "<div>\n",
       "<style scoped>\n",
       "    .dataframe tbody tr th:only-of-type {\n",
       "        vertical-align: middle;\n",
       "    }\n",
       "\n",
       "    .dataframe tbody tr th {\n",
       "        vertical-align: top;\n",
       "    }\n",
       "\n",
       "    .dataframe thead th {\n",
       "        text-align: right;\n",
       "    }\n",
       "</style>\n",
       "<table border=\"1\" class=\"dataframe\">\n",
       "  <thead>\n",
       "    <tr style=\"text-align: right;\">\n",
       "      <th></th>\n",
       "      <th>conversation_id</th>\n",
       "      <th>main_topic</th>\n",
       "      <th>situation</th>\n",
       "      <th>confidence</th>\n",
       "      <th>reasoning</th>\n",
       "      <th>conversation_length</th>\n",
       "      <th>user_words</th>\n",
       "      <th>api_errors</th>\n",
       "      <th>feedback_Q1</th>\n",
       "      <th>feedback_Q2</th>\n",
       "      <th>feedback_Q3</th>\n",
       "      <th>overall_feedback</th>\n",
       "    </tr>\n",
       "  </thead>\n",
       "  <tbody>\n",
       "    <tr>\n",
       "      <th>0</th>\n",
       "      <td>1</td>\n",
       "      <td>Team Dynamics</td>\n",
       "      <td>Collaboration issues</td>\n",
       "      <td>0.9</td>\n",
       "      <td>The conversation primarily revolves around the...</td>\n",
       "      <td>18</td>\n",
       "      <td>364</td>\n",
       "      <td>3</td>\n",
       "      <td>very satisfactory</td>\n",
       "      <td>extremely helpful</td>\n",
       "      <td>I like its objective approach clarifying the p...</td>\n",
       "      <td>5.0</td>\n",
       "    </tr>\n",
       "    <tr>\n",
       "      <th>1</th>\n",
       "      <td>2</td>\n",
       "      <td>Performance Related</td>\n",
       "      <td>Poor quality work</td>\n",
       "      <td>0.9</td>\n",
       "      <td>The conversation primarily focused on the low ...</td>\n",
       "      <td>18</td>\n",
       "      <td>138</td>\n",
       "      <td>0</td>\n",
       "      <td>very satisfactory</td>\n",
       "      <td>it helped!</td>\n",
       "      <td>I dont know what else to ask :) it was fine</td>\n",
       "      <td>5.0</td>\n",
       "    </tr>\n",
       "    <tr>\n",
       "      <th>2</th>\n",
       "      <td>3</td>\n",
       "      <td>Project Management</td>\n",
       "      <td>Resource allocation conflicts</td>\n",
       "      <td>0.9</td>\n",
       "      <td>The conversation primarily revolves around the...</td>\n",
       "      <td>28</td>\n",
       "      <td>492</td>\n",
       "      <td>0</td>\n",
       "      <td>very satisfactory</td>\n",
       "      <td>extremely helpful</td>\n",
       "      <td>I really liked the structure and how the conte...</td>\n",
       "      <td>5.0</td>\n",
       "    </tr>\n",
       "    <tr>\n",
       "      <th>3</th>\n",
       "      <td>4</td>\n",
       "      <td>Performance Related</td>\n",
       "      <td>Poor quality work</td>\n",
       "      <td>0.9</td>\n",
       "      <td>The conversation primarily focused on the seni...</td>\n",
       "      <td>18</td>\n",
       "      <td>138</td>\n",
       "      <td>0</td>\n",
       "      <td>very satisfactory</td>\n",
       "      <td>it helped!</td>\n",
       "      <td>I dont know what else to ask :) it was fine</td>\n",
       "      <td>5.0</td>\n",
       "    </tr>\n",
       "    <tr>\n",
       "      <th>4</th>\n",
       "      <td>5</td>\n",
       "      <td>Team Dynamics</td>\n",
       "      <td>Collaboration issues</td>\n",
       "      <td>0.9</td>\n",
       "      <td>The conversation primarily revolves around a t...</td>\n",
       "      <td>40</td>\n",
       "      <td>330</td>\n",
       "      <td>0</td>\n",
       "      <td>NaN</td>\n",
       "      <td>NaN</td>\n",
       "      <td>NaN</td>\n",
       "      <td>NaN</td>\n",
       "    </tr>\n",
       "  </tbody>\n",
       "</table>\n",
       "</div>"
      ],
      "text/plain": [
       "   conversation_id           main_topic                      situation  \\\n",
       "0                1        Team Dynamics           Collaboration issues   \n",
       "1                2  Performance Related              Poor quality work   \n",
       "2                3   Project Management  Resource allocation conflicts   \n",
       "3                4  Performance Related              Poor quality work   \n",
       "4                5        Team Dynamics           Collaboration issues   \n",
       "\n",
       "   confidence                                          reasoning  \\\n",
       "0         0.9  The conversation primarily revolves around the...   \n",
       "1         0.9  The conversation primarily focused on the low ...   \n",
       "2         0.9  The conversation primarily revolves around the...   \n",
       "3         0.9  The conversation primarily focused on the seni...   \n",
       "4         0.9  The conversation primarily revolves around a t...   \n",
       "\n",
       "   conversation_length  user_words  api_errors        feedback_Q1  \\\n",
       "0                   18         364           3  very satisfactory   \n",
       "1                   18         138           0  very satisfactory   \n",
       "2                   28         492           0  very satisfactory   \n",
       "3                   18         138           0  very satisfactory   \n",
       "4                   40         330           0                NaN   \n",
       "\n",
       "         feedback_Q2                                        feedback_Q3  \\\n",
       "0  extremely helpful  I like its objective approach clarifying the p...   \n",
       "1         it helped!        I dont know what else to ask :) it was fine   \n",
       "2  extremely helpful  I really liked the structure and how the conte...   \n",
       "3         it helped!        I dont know what else to ask :) it was fine   \n",
       "4                NaN                                                NaN   \n",
       "\n",
       "   overall_feedback  \n",
       "0               5.0  \n",
       "1               5.0  \n",
       "2               5.0  \n",
       "3               5.0  \n",
       "4               NaN  "
      ]
     },
     "execution_count": 36,
     "metadata": {},
     "output_type": "execute_result"
    }
   ],
   "source": [
    "merged_df = pd.merge(topics_df, feedback_df, on=\"conversation_id\", how=\"left\")\n",
    "merged_df.head()"
   ]
  },
  {
   "cell_type": "code",
   "execution_count": 37,
   "metadata": {},
   "outputs": [
    {
     "name": "stdout",
     "output_type": "stream",
     "text": [
      "Main topics:\n",
      "-  Performance Related\n",
      "-  Interpersonal Conflicts\n",
      "-  Career Development\n",
      "-  Organizational Changes\n",
      "-  Professional Conduct\n",
      "-  Work Life Balance\n",
      "-  Ethics Compliance\n",
      "-  Project Management\n",
      "-  Client Relations\n",
      "-  Team Dynamics\n"
     ]
    }
   ],
   "source": [
    "from src.analysis.topic_clustering import CATEGORIES\n",
    "\n",
    "print(\"Main topics:\")\n",
    "\n",
    "for key, value in CATEGORIES.items():\n",
    "    print(\"- \", key)"
   ]
  },
  {
   "cell_type": "code",
   "execution_count": 43,
   "metadata": {},
   "outputs": [
    {
     "data": {
      "application/vnd.plotly.v1+json": {
       "config": {
        "plotlyServerURL": "https://plot.ly"
       },
       "data": [
        {
         "hovertemplate": "Topic=%{x}<br>Average Feedback Score=%{y}<br>color=%{marker.color}<extra></extra>",
         "legendgroup": "",
         "marker": {
          "color": {
           "bdata": "AAAAAAAAFEAAAAAAAAAUQAAAAAAAABRAAAAAAAAAFEAAAAAAAAAUQFVVVVVVVRFAAAAAAAAAAAA=",
           "dtype": "f8"
          },
          "coloraxis": "coloraxis",
          "pattern": {
           "shape": ""
          }
         },
         "name": "",
         "orientation": "v",
         "showlegend": false,
         "textposition": "auto",
         "type": "bar",
         "x": [
          "Career Development",
          "Organizational Changes",
          "Project Management",
          "Team Dynamics",
          "Work Life Balance",
          "Performance Related",
          "Interpersonal Conflicts"
         ],
         "xaxis": "x",
         "y": {
          "bdata": "AAAAAAAAFEAAAAAAAAAUQAAAAAAAABRAAAAAAAAAFEAAAAAAAAAUQFVVVVVVVRFAAAAAAAAAAAA=",
          "dtype": "f8"
         },
         "yaxis": "y"
        }
       ],
       "layout": {
        "barmode": "relative",
        "coloraxis": {
         "colorbar": {
          "title": {
           "text": "color"
          }
         },
         "colorscale": [
          [
           0,
           "#440154"
          ],
          [
           0.1111111111111111,
           "#482878"
          ],
          [
           0.2222222222222222,
           "#3e4989"
          ],
          [
           0.3333333333333333,
           "#31688e"
          ],
          [
           0.4444444444444444,
           "#26828e"
          ],
          [
           0.5555555555555556,
           "#1f9e89"
          ],
          [
           0.6666666666666666,
           "#35b779"
          ],
          [
           0.7777777777777778,
           "#6ece58"
          ],
          [
           0.8888888888888888,
           "#b5de2b"
          ],
          [
           1,
           "#fde725"
          ]
         ],
         "showscale": false
        },
        "height": 600,
        "legend": {
         "tracegroupgap": 0
        },
        "template": {
         "data": {
          "bar": [
           {
            "error_x": {
             "color": "#2a3f5f"
            },
            "error_y": {
             "color": "#2a3f5f"
            },
            "marker": {
             "line": {
              "color": "#E5ECF6",
              "width": 0.5
             },
             "pattern": {
              "fillmode": "overlay",
              "size": 10,
              "solidity": 0.2
             }
            },
            "type": "bar"
           }
          ],
          "barpolar": [
           {
            "marker": {
             "line": {
              "color": "#E5ECF6",
              "width": 0.5
             },
             "pattern": {
              "fillmode": "overlay",
              "size": 10,
              "solidity": 0.2
             }
            },
            "type": "barpolar"
           }
          ],
          "carpet": [
           {
            "aaxis": {
             "endlinecolor": "#2a3f5f",
             "gridcolor": "white",
             "linecolor": "white",
             "minorgridcolor": "white",
             "startlinecolor": "#2a3f5f"
            },
            "baxis": {
             "endlinecolor": "#2a3f5f",
             "gridcolor": "white",
             "linecolor": "white",
             "minorgridcolor": "white",
             "startlinecolor": "#2a3f5f"
            },
            "type": "carpet"
           }
          ],
          "choropleth": [
           {
            "colorbar": {
             "outlinewidth": 0,
             "ticks": ""
            },
            "type": "choropleth"
           }
          ],
          "contour": [
           {
            "colorbar": {
             "outlinewidth": 0,
             "ticks": ""
            },
            "colorscale": [
             [
              0,
              "#0d0887"
             ],
             [
              0.1111111111111111,
              "#46039f"
             ],
             [
              0.2222222222222222,
              "#7201a8"
             ],
             [
              0.3333333333333333,
              "#9c179e"
             ],
             [
              0.4444444444444444,
              "#bd3786"
             ],
             [
              0.5555555555555556,
              "#d8576b"
             ],
             [
              0.6666666666666666,
              "#ed7953"
             ],
             [
              0.7777777777777778,
              "#fb9f3a"
             ],
             [
              0.8888888888888888,
              "#fdca26"
             ],
             [
              1,
              "#f0f921"
             ]
            ],
            "type": "contour"
           }
          ],
          "contourcarpet": [
           {
            "colorbar": {
             "outlinewidth": 0,
             "ticks": ""
            },
            "type": "contourcarpet"
           }
          ],
          "heatmap": [
           {
            "colorbar": {
             "outlinewidth": 0,
             "ticks": ""
            },
            "colorscale": [
             [
              0,
              "#0d0887"
             ],
             [
              0.1111111111111111,
              "#46039f"
             ],
             [
              0.2222222222222222,
              "#7201a8"
             ],
             [
              0.3333333333333333,
              "#9c179e"
             ],
             [
              0.4444444444444444,
              "#bd3786"
             ],
             [
              0.5555555555555556,
              "#d8576b"
             ],
             [
              0.6666666666666666,
              "#ed7953"
             ],
             [
              0.7777777777777778,
              "#fb9f3a"
             ],
             [
              0.8888888888888888,
              "#fdca26"
             ],
             [
              1,
              "#f0f921"
             ]
            ],
            "type": "heatmap"
           }
          ],
          "histogram": [
           {
            "marker": {
             "pattern": {
              "fillmode": "overlay",
              "size": 10,
              "solidity": 0.2
             }
            },
            "type": "histogram"
           }
          ],
          "histogram2d": [
           {
            "colorbar": {
             "outlinewidth": 0,
             "ticks": ""
            },
            "colorscale": [
             [
              0,
              "#0d0887"
             ],
             [
              0.1111111111111111,
              "#46039f"
             ],
             [
              0.2222222222222222,
              "#7201a8"
             ],
             [
              0.3333333333333333,
              "#9c179e"
             ],
             [
              0.4444444444444444,
              "#bd3786"
             ],
             [
              0.5555555555555556,
              "#d8576b"
             ],
             [
              0.6666666666666666,
              "#ed7953"
             ],
             [
              0.7777777777777778,
              "#fb9f3a"
             ],
             [
              0.8888888888888888,
              "#fdca26"
             ],
             [
              1,
              "#f0f921"
             ]
            ],
            "type": "histogram2d"
           }
          ],
          "histogram2dcontour": [
           {
            "colorbar": {
             "outlinewidth": 0,
             "ticks": ""
            },
            "colorscale": [
             [
              0,
              "#0d0887"
             ],
             [
              0.1111111111111111,
              "#46039f"
             ],
             [
              0.2222222222222222,
              "#7201a8"
             ],
             [
              0.3333333333333333,
              "#9c179e"
             ],
             [
              0.4444444444444444,
              "#bd3786"
             ],
             [
              0.5555555555555556,
              "#d8576b"
             ],
             [
              0.6666666666666666,
              "#ed7953"
             ],
             [
              0.7777777777777778,
              "#fb9f3a"
             ],
             [
              0.8888888888888888,
              "#fdca26"
             ],
             [
              1,
              "#f0f921"
             ]
            ],
            "type": "histogram2dcontour"
           }
          ],
          "mesh3d": [
           {
            "colorbar": {
             "outlinewidth": 0,
             "ticks": ""
            },
            "type": "mesh3d"
           }
          ],
          "parcoords": [
           {
            "line": {
             "colorbar": {
              "outlinewidth": 0,
              "ticks": ""
             }
            },
            "type": "parcoords"
           }
          ],
          "pie": [
           {
            "automargin": true,
            "type": "pie"
           }
          ],
          "scatter": [
           {
            "fillpattern": {
             "fillmode": "overlay",
             "size": 10,
             "solidity": 0.2
            },
            "type": "scatter"
           }
          ],
          "scatter3d": [
           {
            "line": {
             "colorbar": {
              "outlinewidth": 0,
              "ticks": ""
             }
            },
            "marker": {
             "colorbar": {
              "outlinewidth": 0,
              "ticks": ""
             }
            },
            "type": "scatter3d"
           }
          ],
          "scattercarpet": [
           {
            "marker": {
             "colorbar": {
              "outlinewidth": 0,
              "ticks": ""
             }
            },
            "type": "scattercarpet"
           }
          ],
          "scattergeo": [
           {
            "marker": {
             "colorbar": {
              "outlinewidth": 0,
              "ticks": ""
             }
            },
            "type": "scattergeo"
           }
          ],
          "scattergl": [
           {
            "marker": {
             "colorbar": {
              "outlinewidth": 0,
              "ticks": ""
             }
            },
            "type": "scattergl"
           }
          ],
          "scattermap": [
           {
            "marker": {
             "colorbar": {
              "outlinewidth": 0,
              "ticks": ""
             }
            },
            "type": "scattermap"
           }
          ],
          "scattermapbox": [
           {
            "marker": {
             "colorbar": {
              "outlinewidth": 0,
              "ticks": ""
             }
            },
            "type": "scattermapbox"
           }
          ],
          "scatterpolar": [
           {
            "marker": {
             "colorbar": {
              "outlinewidth": 0,
              "ticks": ""
             }
            },
            "type": "scatterpolar"
           }
          ],
          "scatterpolargl": [
           {
            "marker": {
             "colorbar": {
              "outlinewidth": 0,
              "ticks": ""
             }
            },
            "type": "scatterpolargl"
           }
          ],
          "scatterternary": [
           {
            "marker": {
             "colorbar": {
              "outlinewidth": 0,
              "ticks": ""
             }
            },
            "type": "scatterternary"
           }
          ],
          "surface": [
           {
            "colorbar": {
             "outlinewidth": 0,
             "ticks": ""
            },
            "colorscale": [
             [
              0,
              "#0d0887"
             ],
             [
              0.1111111111111111,
              "#46039f"
             ],
             [
              0.2222222222222222,
              "#7201a8"
             ],
             [
              0.3333333333333333,
              "#9c179e"
             ],
             [
              0.4444444444444444,
              "#bd3786"
             ],
             [
              0.5555555555555556,
              "#d8576b"
             ],
             [
              0.6666666666666666,
              "#ed7953"
             ],
             [
              0.7777777777777778,
              "#fb9f3a"
             ],
             [
              0.8888888888888888,
              "#fdca26"
             ],
             [
              1,
              "#f0f921"
             ]
            ],
            "type": "surface"
           }
          ],
          "table": [
           {
            "cells": {
             "fill": {
              "color": "#EBF0F8"
             },
             "line": {
              "color": "white"
             }
            },
            "header": {
             "fill": {
              "color": "#C8D4E3"
             },
             "line": {
              "color": "white"
             }
            },
            "type": "table"
           }
          ]
         },
         "layout": {
          "annotationdefaults": {
           "arrowcolor": "#2a3f5f",
           "arrowhead": 0,
           "arrowwidth": 1
          },
          "autotypenumbers": "strict",
          "coloraxis": {
           "colorbar": {
            "outlinewidth": 0,
            "ticks": ""
           }
          },
          "colorscale": {
           "diverging": [
            [
             0,
             "#8e0152"
            ],
            [
             0.1,
             "#c51b7d"
            ],
            [
             0.2,
             "#de77ae"
            ],
            [
             0.3,
             "#f1b6da"
            ],
            [
             0.4,
             "#fde0ef"
            ],
            [
             0.5,
             "#f7f7f7"
            ],
            [
             0.6,
             "#e6f5d0"
            ],
            [
             0.7,
             "#b8e186"
            ],
            [
             0.8,
             "#7fbc41"
            ],
            [
             0.9,
             "#4d9221"
            ],
            [
             1,
             "#276419"
            ]
           ],
           "sequential": [
            [
             0,
             "#0d0887"
            ],
            [
             0.1111111111111111,
             "#46039f"
            ],
            [
             0.2222222222222222,
             "#7201a8"
            ],
            [
             0.3333333333333333,
             "#9c179e"
            ],
            [
             0.4444444444444444,
             "#bd3786"
            ],
            [
             0.5555555555555556,
             "#d8576b"
            ],
            [
             0.6666666666666666,
             "#ed7953"
            ],
            [
             0.7777777777777778,
             "#fb9f3a"
            ],
            [
             0.8888888888888888,
             "#fdca26"
            ],
            [
             1,
             "#f0f921"
            ]
           ],
           "sequentialminus": [
            [
             0,
             "#0d0887"
            ],
            [
             0.1111111111111111,
             "#46039f"
            ],
            [
             0.2222222222222222,
             "#7201a8"
            ],
            [
             0.3333333333333333,
             "#9c179e"
            ],
            [
             0.4444444444444444,
             "#bd3786"
            ],
            [
             0.5555555555555556,
             "#d8576b"
            ],
            [
             0.6666666666666666,
             "#ed7953"
            ],
            [
             0.7777777777777778,
             "#fb9f3a"
            ],
            [
             0.8888888888888888,
             "#fdca26"
            ],
            [
             1,
             "#f0f921"
            ]
           ]
          },
          "colorway": [
           "#636efa",
           "#EF553B",
           "#00cc96",
           "#ab63fa",
           "#FFA15A",
           "#19d3f3",
           "#FF6692",
           "#B6E880",
           "#FF97FF",
           "#FECB52"
          ],
          "font": {
           "color": "#2a3f5f"
          },
          "geo": {
           "bgcolor": "white",
           "lakecolor": "white",
           "landcolor": "#E5ECF6",
           "showlakes": true,
           "showland": true,
           "subunitcolor": "white"
          },
          "hoverlabel": {
           "align": "left"
          },
          "hovermode": "closest",
          "mapbox": {
           "style": "light"
          },
          "paper_bgcolor": "white",
          "plot_bgcolor": "#E5ECF6",
          "polar": {
           "angularaxis": {
            "gridcolor": "white",
            "linecolor": "white",
            "ticks": ""
           },
           "bgcolor": "#E5ECF6",
           "radialaxis": {
            "gridcolor": "white",
            "linecolor": "white",
            "ticks": ""
           }
          },
          "scene": {
           "xaxis": {
            "backgroundcolor": "#E5ECF6",
            "gridcolor": "white",
            "gridwidth": 2,
            "linecolor": "white",
            "showbackground": true,
            "ticks": "",
            "zerolinecolor": "white"
           },
           "yaxis": {
            "backgroundcolor": "#E5ECF6",
            "gridcolor": "white",
            "gridwidth": 2,
            "linecolor": "white",
            "showbackground": true,
            "ticks": "",
            "zerolinecolor": "white"
           },
           "zaxis": {
            "backgroundcolor": "#E5ECF6",
            "gridcolor": "white",
            "gridwidth": 2,
            "linecolor": "white",
            "showbackground": true,
            "ticks": "",
            "zerolinecolor": "white"
           }
          },
          "shapedefaults": {
           "line": {
            "color": "#2a3f5f"
           }
          },
          "ternary": {
           "aaxis": {
            "gridcolor": "white",
            "linecolor": "white",
            "ticks": ""
           },
           "baxis": {
            "gridcolor": "white",
            "linecolor": "white",
            "ticks": ""
           },
           "bgcolor": "#E5ECF6",
           "caxis": {
            "gridcolor": "white",
            "linecolor": "white",
            "ticks": ""
           }
          },
          "title": {
           "x": 0.05
          },
          "xaxis": {
           "automargin": true,
           "gridcolor": "white",
           "linecolor": "white",
           "ticks": "",
           "title": {
            "standoff": 15
           },
           "zerolinecolor": "white",
           "zerolinewidth": 2
          },
          "yaxis": {
           "automargin": true,
           "gridcolor": "white",
           "linecolor": "white",
           "ticks": "",
           "title": {
            "standoff": 15
           },
           "zerolinecolor": "white",
           "zerolinewidth": 2
          }
         }
        },
        "title": {
         "text": "Average Feedback Score by Topic"
        },
        "width": 800,
        "xaxis": {
         "anchor": "y",
         "categoryorder": "total descending",
         "domain": [
          0,
          1
         ],
         "title": {
          "text": "Topic"
         }
        },
        "yaxis": {
         "anchor": "x",
         "domain": [
          0,
          1
         ],
         "title": {
          "text": "Average Feedback Score"
         }
        }
       }
      }
     },
     "metadata": {},
     "output_type": "display_data"
    }
   ],
   "source": [
    "# Calculate mean feedback score for each main_topic and sort\n",
    "topic_feedback = merged_df.groupby(\"main_topic\")[\"overall_feedback\"].mean().sort_values(ascending=False)\n",
    "topic_feedback = topic_feedback.fillna(0)\n",
    "\n",
    "# Create a vertical bar chart with plotly\n",
    "fig = px.bar(\n",
    "    y=topic_feedback.values,\n",
    "    x=topic_feedback.index,\n",
    "    labels={\"y\": \"Average Feedback Score\", \"x\": \"Topic\"},\n",
    "    title=\"Average Feedback Score by Topic\",\n",
    "    color=topic_feedback.values,\n",
    "    color_continuous_scale=\"Viridis\",\n",
    ")\n",
    "\n",
    "# Update layout for better readability\n",
    "fig.update_layout(height=600, width=800, xaxis={\"categoryorder\": \"total descending\"}, coloraxis_showscale=False)\n",
    "\n",
    "fig.show()"
   ]
  },
  {
   "cell_type": "code",
   "execution_count": 39,
   "metadata": {},
   "outputs": [
    {
     "data": {
      "application/vnd.plotly.v1+json": {
       "config": {
        "plotlyServerURL": "https://plot.ly"
       },
       "data": [
        {
         "domain": {
          "x": [
           0,
           0.2888888888888889
          ],
          "y": [
           0,
           1
          ]
         },
         "hole": 0.4,
         "labels": [
          "Performance Related",
          "Career Development",
          "Project Management",
          "Team Dynamics",
          "Work Life Balance",
          "Interpersonal Conflicts",
          "Organizational Changes"
         ],
         "name": "All Topics",
         "type": "pie",
         "values": {
          "bdata": "BQQDAgIBAQ==",
          "dtype": "i1"
         }
        },
        {
         "domain": {
          "x": [
           0.35555555555555557,
           0.6444444444444445
          ],
          "y": [
           0,
           1
          ]
         },
         "hole": 0.4,
         "labels": [
          "Performance Related",
          "Project Management",
          "Team Dynamics",
          "Work Life Balance",
          "Career Development",
          "Organizational Changes"
         ],
         "name": "With Feedback",
         "type": "pie",
         "values": {
          "bdata": "AwMBAQEB",
          "dtype": "i1"
         }
        },
        {
         "domain": {
          "x": [
           0.7111111111111111,
           1
          ],
          "y": [
           0,
           1
          ]
         },
         "hole": 0.4,
         "labels": [
          "Career Development",
          "Performance Related",
          "Team Dynamics",
          "Interpersonal Conflicts",
          "Work Life Balance"
         ],
         "name": "Without Feedback",
         "type": "pie",
         "values": {
          "bdata": "AwIBAQE=",
          "dtype": "i1"
         }
        }
       ],
       "layout": {
        "annotations": [
         {
          "font": {
           "size": 16
          },
          "showarrow": false,
          "text": "All Topics",
          "x": 0.14444444444444446,
          "xanchor": "center",
          "xref": "paper",
          "y": 1,
          "yanchor": "bottom",
          "yref": "paper"
         },
         {
          "font": {
           "size": 16
          },
          "showarrow": false,
          "text": "Topics with Feedback",
          "x": 0.5,
          "xanchor": "center",
          "xref": "paper",
          "y": 1,
          "yanchor": "bottom",
          "yref": "paper"
         },
         {
          "font": {
           "size": 16
          },
          "showarrow": false,
          "text": "Without Feedback",
          "x": 0.8555555555555556,
          "xanchor": "center",
          "xref": "paper",
          "y": 1,
          "yanchor": "bottom",
          "yref": "paper"
         }
        ],
        "height": 500,
        "template": {
         "data": {
          "bar": [
           {
            "error_x": {
             "color": "#2a3f5f"
            },
            "error_y": {
             "color": "#2a3f5f"
            },
            "marker": {
             "line": {
              "color": "#E5ECF6",
              "width": 0.5
             },
             "pattern": {
              "fillmode": "overlay",
              "size": 10,
              "solidity": 0.2
             }
            },
            "type": "bar"
           }
          ],
          "barpolar": [
           {
            "marker": {
             "line": {
              "color": "#E5ECF6",
              "width": 0.5
             },
             "pattern": {
              "fillmode": "overlay",
              "size": 10,
              "solidity": 0.2
             }
            },
            "type": "barpolar"
           }
          ],
          "carpet": [
           {
            "aaxis": {
             "endlinecolor": "#2a3f5f",
             "gridcolor": "white",
             "linecolor": "white",
             "minorgridcolor": "white",
             "startlinecolor": "#2a3f5f"
            },
            "baxis": {
             "endlinecolor": "#2a3f5f",
             "gridcolor": "white",
             "linecolor": "white",
             "minorgridcolor": "white",
             "startlinecolor": "#2a3f5f"
            },
            "type": "carpet"
           }
          ],
          "choropleth": [
           {
            "colorbar": {
             "outlinewidth": 0,
             "ticks": ""
            },
            "type": "choropleth"
           }
          ],
          "contour": [
           {
            "colorbar": {
             "outlinewidth": 0,
             "ticks": ""
            },
            "colorscale": [
             [
              0,
              "#0d0887"
             ],
             [
              0.1111111111111111,
              "#46039f"
             ],
             [
              0.2222222222222222,
              "#7201a8"
             ],
             [
              0.3333333333333333,
              "#9c179e"
             ],
             [
              0.4444444444444444,
              "#bd3786"
             ],
             [
              0.5555555555555556,
              "#d8576b"
             ],
             [
              0.6666666666666666,
              "#ed7953"
             ],
             [
              0.7777777777777778,
              "#fb9f3a"
             ],
             [
              0.8888888888888888,
              "#fdca26"
             ],
             [
              1,
              "#f0f921"
             ]
            ],
            "type": "contour"
           }
          ],
          "contourcarpet": [
           {
            "colorbar": {
             "outlinewidth": 0,
             "ticks": ""
            },
            "type": "contourcarpet"
           }
          ],
          "heatmap": [
           {
            "colorbar": {
             "outlinewidth": 0,
             "ticks": ""
            },
            "colorscale": [
             [
              0,
              "#0d0887"
             ],
             [
              0.1111111111111111,
              "#46039f"
             ],
             [
              0.2222222222222222,
              "#7201a8"
             ],
             [
              0.3333333333333333,
              "#9c179e"
             ],
             [
              0.4444444444444444,
              "#bd3786"
             ],
             [
              0.5555555555555556,
              "#d8576b"
             ],
             [
              0.6666666666666666,
              "#ed7953"
             ],
             [
              0.7777777777777778,
              "#fb9f3a"
             ],
             [
              0.8888888888888888,
              "#fdca26"
             ],
             [
              1,
              "#f0f921"
             ]
            ],
            "type": "heatmap"
           }
          ],
          "histogram": [
           {
            "marker": {
             "pattern": {
              "fillmode": "overlay",
              "size": 10,
              "solidity": 0.2
             }
            },
            "type": "histogram"
           }
          ],
          "histogram2d": [
           {
            "colorbar": {
             "outlinewidth": 0,
             "ticks": ""
            },
            "colorscale": [
             [
              0,
              "#0d0887"
             ],
             [
              0.1111111111111111,
              "#46039f"
             ],
             [
              0.2222222222222222,
              "#7201a8"
             ],
             [
              0.3333333333333333,
              "#9c179e"
             ],
             [
              0.4444444444444444,
              "#bd3786"
             ],
             [
              0.5555555555555556,
              "#d8576b"
             ],
             [
              0.6666666666666666,
              "#ed7953"
             ],
             [
              0.7777777777777778,
              "#fb9f3a"
             ],
             [
              0.8888888888888888,
              "#fdca26"
             ],
             [
              1,
              "#f0f921"
             ]
            ],
            "type": "histogram2d"
           }
          ],
          "histogram2dcontour": [
           {
            "colorbar": {
             "outlinewidth": 0,
             "ticks": ""
            },
            "colorscale": [
             [
              0,
              "#0d0887"
             ],
             [
              0.1111111111111111,
              "#46039f"
             ],
             [
              0.2222222222222222,
              "#7201a8"
             ],
             [
              0.3333333333333333,
              "#9c179e"
             ],
             [
              0.4444444444444444,
              "#bd3786"
             ],
             [
              0.5555555555555556,
              "#d8576b"
             ],
             [
              0.6666666666666666,
              "#ed7953"
             ],
             [
              0.7777777777777778,
              "#fb9f3a"
             ],
             [
              0.8888888888888888,
              "#fdca26"
             ],
             [
              1,
              "#f0f921"
             ]
            ],
            "type": "histogram2dcontour"
           }
          ],
          "mesh3d": [
           {
            "colorbar": {
             "outlinewidth": 0,
             "ticks": ""
            },
            "type": "mesh3d"
           }
          ],
          "parcoords": [
           {
            "line": {
             "colorbar": {
              "outlinewidth": 0,
              "ticks": ""
             }
            },
            "type": "parcoords"
           }
          ],
          "pie": [
           {
            "automargin": true,
            "type": "pie"
           }
          ],
          "scatter": [
           {
            "fillpattern": {
             "fillmode": "overlay",
             "size": 10,
             "solidity": 0.2
            },
            "type": "scatter"
           }
          ],
          "scatter3d": [
           {
            "line": {
             "colorbar": {
              "outlinewidth": 0,
              "ticks": ""
             }
            },
            "marker": {
             "colorbar": {
              "outlinewidth": 0,
              "ticks": ""
             }
            },
            "type": "scatter3d"
           }
          ],
          "scattercarpet": [
           {
            "marker": {
             "colorbar": {
              "outlinewidth": 0,
              "ticks": ""
             }
            },
            "type": "scattercarpet"
           }
          ],
          "scattergeo": [
           {
            "marker": {
             "colorbar": {
              "outlinewidth": 0,
              "ticks": ""
             }
            },
            "type": "scattergeo"
           }
          ],
          "scattergl": [
           {
            "marker": {
             "colorbar": {
              "outlinewidth": 0,
              "ticks": ""
             }
            },
            "type": "scattergl"
           }
          ],
          "scattermap": [
           {
            "marker": {
             "colorbar": {
              "outlinewidth": 0,
              "ticks": ""
             }
            },
            "type": "scattermap"
           }
          ],
          "scattermapbox": [
           {
            "marker": {
             "colorbar": {
              "outlinewidth": 0,
              "ticks": ""
             }
            },
            "type": "scattermapbox"
           }
          ],
          "scatterpolar": [
           {
            "marker": {
             "colorbar": {
              "outlinewidth": 0,
              "ticks": ""
             }
            },
            "type": "scatterpolar"
           }
          ],
          "scatterpolargl": [
           {
            "marker": {
             "colorbar": {
              "outlinewidth": 0,
              "ticks": ""
             }
            },
            "type": "scatterpolargl"
           }
          ],
          "scatterternary": [
           {
            "marker": {
             "colorbar": {
              "outlinewidth": 0,
              "ticks": ""
             }
            },
            "type": "scatterternary"
           }
          ],
          "surface": [
           {
            "colorbar": {
             "outlinewidth": 0,
             "ticks": ""
            },
            "colorscale": [
             [
              0,
              "#0d0887"
             ],
             [
              0.1111111111111111,
              "#46039f"
             ],
             [
              0.2222222222222222,
              "#7201a8"
             ],
             [
              0.3333333333333333,
              "#9c179e"
             ],
             [
              0.4444444444444444,
              "#bd3786"
             ],
             [
              0.5555555555555556,
              "#d8576b"
             ],
             [
              0.6666666666666666,
              "#ed7953"
             ],
             [
              0.7777777777777778,
              "#fb9f3a"
             ],
             [
              0.8888888888888888,
              "#fdca26"
             ],
             [
              1,
              "#f0f921"
             ]
            ],
            "type": "surface"
           }
          ],
          "table": [
           {
            "cells": {
             "fill": {
              "color": "#EBF0F8"
             },
             "line": {
              "color": "white"
             }
            },
            "header": {
             "fill": {
              "color": "#C8D4E3"
             },
             "line": {
              "color": "white"
             }
            },
            "type": "table"
           }
          ]
         },
         "layout": {
          "annotationdefaults": {
           "arrowcolor": "#2a3f5f",
           "arrowhead": 0,
           "arrowwidth": 1
          },
          "autotypenumbers": "strict",
          "coloraxis": {
           "colorbar": {
            "outlinewidth": 0,
            "ticks": ""
           }
          },
          "colorscale": {
           "diverging": [
            [
             0,
             "#8e0152"
            ],
            [
             0.1,
             "#c51b7d"
            ],
            [
             0.2,
             "#de77ae"
            ],
            [
             0.3,
             "#f1b6da"
            ],
            [
             0.4,
             "#fde0ef"
            ],
            [
             0.5,
             "#f7f7f7"
            ],
            [
             0.6,
             "#e6f5d0"
            ],
            [
             0.7,
             "#b8e186"
            ],
            [
             0.8,
             "#7fbc41"
            ],
            [
             0.9,
             "#4d9221"
            ],
            [
             1,
             "#276419"
            ]
           ],
           "sequential": [
            [
             0,
             "#0d0887"
            ],
            [
             0.1111111111111111,
             "#46039f"
            ],
            [
             0.2222222222222222,
             "#7201a8"
            ],
            [
             0.3333333333333333,
             "#9c179e"
            ],
            [
             0.4444444444444444,
             "#bd3786"
            ],
            [
             0.5555555555555556,
             "#d8576b"
            ],
            [
             0.6666666666666666,
             "#ed7953"
            ],
            [
             0.7777777777777778,
             "#fb9f3a"
            ],
            [
             0.8888888888888888,
             "#fdca26"
            ],
            [
             1,
             "#f0f921"
            ]
           ],
           "sequentialminus": [
            [
             0,
             "#0d0887"
            ],
            [
             0.1111111111111111,
             "#46039f"
            ],
            [
             0.2222222222222222,
             "#7201a8"
            ],
            [
             0.3333333333333333,
             "#9c179e"
            ],
            [
             0.4444444444444444,
             "#bd3786"
            ],
            [
             0.5555555555555556,
             "#d8576b"
            ],
            [
             0.6666666666666666,
             "#ed7953"
            ],
            [
             0.7777777777777778,
             "#fb9f3a"
            ],
            [
             0.8888888888888888,
             "#fdca26"
            ],
            [
             1,
             "#f0f921"
            ]
           ]
          },
          "colorway": [
           "#636efa",
           "#EF553B",
           "#00cc96",
           "#ab63fa",
           "#FFA15A",
           "#19d3f3",
           "#FF6692",
           "#B6E880",
           "#FF97FF",
           "#FECB52"
          ],
          "font": {
           "color": "#2a3f5f"
          },
          "geo": {
           "bgcolor": "white",
           "lakecolor": "white",
           "landcolor": "#E5ECF6",
           "showlakes": true,
           "showland": true,
           "subunitcolor": "white"
          },
          "hoverlabel": {
           "align": "left"
          },
          "hovermode": "closest",
          "mapbox": {
           "style": "light"
          },
          "paper_bgcolor": "white",
          "plot_bgcolor": "#E5ECF6",
          "polar": {
           "angularaxis": {
            "gridcolor": "white",
            "linecolor": "white",
            "ticks": ""
           },
           "bgcolor": "#E5ECF6",
           "radialaxis": {
            "gridcolor": "white",
            "linecolor": "white",
            "ticks": ""
           }
          },
          "scene": {
           "xaxis": {
            "backgroundcolor": "#E5ECF6",
            "gridcolor": "white",
            "gridwidth": 2,
            "linecolor": "white",
            "showbackground": true,
            "ticks": "",
            "zerolinecolor": "white"
           },
           "yaxis": {
            "backgroundcolor": "#E5ECF6",
            "gridcolor": "white",
            "gridwidth": 2,
            "linecolor": "white",
            "showbackground": true,
            "ticks": "",
            "zerolinecolor": "white"
           },
           "zaxis": {
            "backgroundcolor": "#E5ECF6",
            "gridcolor": "white",
            "gridwidth": 2,
            "linecolor": "white",
            "showbackground": true,
            "ticks": "",
            "zerolinecolor": "white"
           }
          },
          "shapedefaults": {
           "line": {
            "color": "#2a3f5f"
           }
          },
          "ternary": {
           "aaxis": {
            "gridcolor": "white",
            "linecolor": "white",
            "ticks": ""
           },
           "baxis": {
            "gridcolor": "white",
            "linecolor": "white",
            "ticks": ""
           },
           "bgcolor": "#E5ECF6",
           "caxis": {
            "gridcolor": "white",
            "linecolor": "white",
            "ticks": ""
           }
          },
          "title": {
           "x": 0.05
          },
          "xaxis": {
           "automargin": true,
           "gridcolor": "white",
           "linecolor": "white",
           "ticks": "",
           "title": {
            "standoff": 15
           },
           "zerolinecolor": "white",
           "zerolinewidth": 2
          },
          "yaxis": {
           "automargin": true,
           "gridcolor": "white",
           "linecolor": "white",
           "ticks": "",
           "title": {
            "standoff": 15
           },
           "zerolinecolor": "white",
           "zerolinewidth": 2
          }
         }
        },
        "title": {
         "text": "Topic Distribution: All Conversations vs With Feedback"
        },
        "width": 1000
       }
      }
     },
     "metadata": {},
     "output_type": "display_data"
    }
   ],
   "source": [
    "import plotly.express as px\n",
    "\n",
    "# Create a figure with 2 subplots side by side\n",
    "fig = make_subplots(\n",
    "    rows=1,\n",
    "    cols=3,\n",
    "    subplot_titles=(\"All Topics\", \"Topics with Feedback\", \"Without Feedback\"),\n",
    "    specs=[[{\"type\": \"pie\"}, {\"type\": \"pie\"}, {\"type\": \"pie\"}]],\n",
    ")\n",
    "\n",
    "# First chart - all conversations\n",
    "all_counts = merged_df[\"main_topic\"].value_counts()\n",
    "fig.add_trace(go.Pie(labels=all_counts.index, values=all_counts.values, hole=0.4, name=\"All Topics\"), row=1, col=1)\n",
    "\n",
    "# Second chart - only conversations with feedback\n",
    "filtered_counts = merged_df.dropna(subset=[\"overall_feedback\"])[\"main_topic\"].value_counts()\n",
    "fig.add_trace(\n",
    "    go.Pie(labels=filtered_counts.index, values=filtered_counts.values, hole=0.4, name=\"With Feedback\"), row=1, col=2\n",
    ")\n",
    "\n",
    "# Third chart - only conversations without feedback\n",
    "filtered_counts = merged_df[merged_df[\"overall_feedback\"].isna()][\"main_topic\"].value_counts()\n",
    "fig.add_trace(\n",
    "    go.Pie(labels=filtered_counts.index, values=filtered_counts.values, hole=0.4, name=\"Without Feedback\"), row=1, col=3\n",
    ")\n",
    "\n",
    "# Update layout\n",
    "fig.update_layout(title_text=\"Topic Distribution: All Conversations vs With Feedback\", height=500, width=1000)\n",
    "\n",
    "fig.show()"
   ]
  },
  {
   "cell_type": "markdown",
   "metadata": {},
   "source": [
    "From the llm topic analysis we could make following observations:\n",
    "- performance-related and Attendance-related topics got 3.0 average feedback score - "
   ]
  },
  {
   "cell_type": "code",
   "execution_count": 31,
   "metadata": {},
   "outputs": [
    {
     "data": {
      "text/plain": [
       "[6, 9, 13, 18]"
      ]
     },
     "execution_count": 31,
     "metadata": {},
     "output_type": "execute_result"
    }
   ],
   "source": [
    "merged_df[merged_df[\"overall_feedback\"].isna() & merged_df[\"main_topic\"].str.contains(\"Career Development\")][\n",
    "    \"conversation_id\"\n",
    "].tolist()"
   ]
  },
  {
   "cell_type": "code",
   "execution_count": 68,
   "metadata": {},
   "outputs": [
    {
     "data": {
      "text/html": [
       "<div>\n",
       "<style scoped>\n",
       "    .dataframe tbody tr th:only-of-type {\n",
       "        vertical-align: middle;\n",
       "    }\n",
       "\n",
       "    .dataframe tbody tr th {\n",
       "        vertical-align: top;\n",
       "    }\n",
       "\n",
       "    .dataframe thead th {\n",
       "        text-align: right;\n",
       "    }\n",
       "</style>\n",
       "<table border=\"1\" class=\"dataframe\">\n",
       "  <thead>\n",
       "    <tr style=\"text-align: right;\">\n",
       "      <th></th>\n",
       "      <th>conversation_id</th>\n",
       "      <th>main_topic</th>\n",
       "      <th>situation</th>\n",
       "      <th>confidence</th>\n",
       "      <th>reasoning</th>\n",
       "      <th>conversation_length</th>\n",
       "      <th>number_of_user_words</th>\n",
       "      <th>api_errors</th>\n",
       "      <th>feedback_Q1</th>\n",
       "      <th>feedback_Q2</th>\n",
       "      <th>feedback_Q3</th>\n",
       "      <th>conversation_length_without_feedback</th>\n",
       "      <th>overall_feedback</th>\n",
       "    </tr>\n",
       "  </thead>\n",
       "  <tbody>\n",
       "    <tr>\n",
       "      <th>1</th>\n",
       "      <td>2</td>\n",
       "      <td>Performance Related</td>\n",
       "      <td>Poor quality work</td>\n",
       "      <td>0.9</td>\n",
       "      <td>The conversation primarily focused on the seni...</td>\n",
       "      <td>26</td>\n",
       "      <td>155</td>\n",
       "      <td>0</td>\n",
       "      <td>it helped!</td>\n",
       "      <td>I dont know what else to ask :) it was fine</td>\n",
       "      <td>good night!</td>\n",
       "      <td>20</td>\n",
       "      <td>3.0</td>\n",
       "    </tr>\n",
       "    <tr>\n",
       "      <th>3</th>\n",
       "      <td>4</td>\n",
       "      <td>Performance Related</td>\n",
       "      <td>Poor quality work</td>\n",
       "      <td>0.9</td>\n",
       "      <td>The conversation primarily revolved around the...</td>\n",
       "      <td>24</td>\n",
       "      <td>153</td>\n",
       "      <td>0</td>\n",
       "      <td>it helped!</td>\n",
       "      <td>I dont know what else to ask :) it was fine</td>\n",
       "      <td>NaN</td>\n",
       "      <td>20</td>\n",
       "      <td>3.0</td>\n",
       "    </tr>\n",
       "    <tr>\n",
       "      <th>10</th>\n",
       "      <td>11</td>\n",
       "      <td>Performance Related</td>\n",
       "      <td>Productivity concerns</td>\n",
       "      <td>0.9</td>\n",
       "      <td>The conversation primarily focused on Andrea's...</td>\n",
       "      <td>22</td>\n",
       "      <td>170</td>\n",
       "      <td>0</td>\n",
       "      <td>NaN</td>\n",
       "      <td>NaN</td>\n",
       "      <td>NaN</td>\n",
       "      <td>22</td>\n",
       "      <td>NaN</td>\n",
       "    </tr>\n",
       "    <tr>\n",
       "      <th>11</th>\n",
       "      <td>12</td>\n",
       "      <td>Performance Related</td>\n",
       "      <td>Productivity concerns</td>\n",
       "      <td>0.9</td>\n",
       "      <td>The conversation revolves around a client esca...</td>\n",
       "      <td>14</td>\n",
       "      <td>223</td>\n",
       "      <td>0</td>\n",
       "      <td>NaN</td>\n",
       "      <td>NaN</td>\n",
       "      <td>NaN</td>\n",
       "      <td>14</td>\n",
       "      <td>NaN</td>\n",
       "    </tr>\n",
       "  </tbody>\n",
       "</table>\n",
       "</div>"
      ],
      "text/plain": [
       "    conversation_id           main_topic              situation  confidence  \\\n",
       "1                 2  Performance Related      Poor quality work         0.9   \n",
       "3                 4  Performance Related      Poor quality work         0.9   \n",
       "10               11  Performance Related  Productivity concerns         0.9   \n",
       "11               12  Performance Related  Productivity concerns         0.9   \n",
       "\n",
       "                                            reasoning  conversation_length  \\\n",
       "1   The conversation primarily focused on the seni...                   26   \n",
       "3   The conversation primarily revolved around the...                   24   \n",
       "10  The conversation primarily focused on Andrea's...                   22   \n",
       "11  The conversation revolves around a client esca...                   14   \n",
       "\n",
       "    number_of_user_words  api_errors feedback_Q1  \\\n",
       "1                    155           0  it helped!   \n",
       "3                    153           0  it helped!   \n",
       "10                   170           0         NaN   \n",
       "11                   223           0         NaN   \n",
       "\n",
       "                                    feedback_Q2  feedback_Q3  \\\n",
       "1   I dont know what else to ask :) it was fine  good night!   \n",
       "3   I dont know what else to ask :) it was fine          NaN   \n",
       "10                                          NaN          NaN   \n",
       "11                                          NaN          NaN   \n",
       "\n",
       "    conversation_length_without_feedback  overall_feedback  \n",
       "1                                     20               3.0  \n",
       "3                                     20               3.0  \n",
       "10                                    22               NaN  \n",
       "11                                    14               NaN  "
      ]
     },
     "execution_count": 68,
     "metadata": {},
     "output_type": "execute_result"
    }
   ],
   "source": [
    "merged_df[merged_df[\"main_topic\"].str.contains(\"Performance\")]"
   ]
  },
  {
   "cell_type": "code",
   "execution_count": null,
   "metadata": {},
   "outputs": [],
   "source": []
  }
 ],
 "metadata": {
  "kernelspec": {
   "display_name": ".venv",
   "language": "python",
   "name": "python3"
  },
  "language_info": {
   "codemirror_mode": {
    "name": "ipython",
    "version": 3
   },
   "file_extension": ".py",
   "mimetype": "text/x-python",
   "name": "python",
   "nbconvert_exporter": "python",
   "pygments_lexer": "ipython3",
   "version": "3.13.1"
  }
 },
 "nbformat": 4,
 "nbformat_minor": 2
}
